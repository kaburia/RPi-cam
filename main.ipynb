{
 "cells": [
  {
   "cell_type": "code",
   "execution_count": null,
   "id": "99d05a40",
   "metadata": {},
   "outputs": [],
   "source": [
    "# Download the dataset from Google drive\n",
    "url_path = 'https://drive.google.com/drive/u/0/folders/1R17xoqkLWiFjHCCftBO_Gvtofu_5Hsjc'\n",
    "!gdown --id 1R17xoqkLWiFjHCCftBO_Gvtofu_5Hsjc --folder -O data"
   ]
  },
  {
   "cell_type": "code",
   "execution_count": null,
   "id": "787a12de",
   "metadata": {},
   "outputs": [],
   "source": [
    "# Download the model\n",
    "!curl -L -o model.tar.gz  https://www.kaggle.com/api/v1/models/google/speciesnet/keras/v4.0.0a/3/download\n",
    "\n",
    "!tar -xzf model.tar.gz -C model"
   ]
  },
  {
   "cell_type": "code",
   "execution_count": null,
   "id": "3580ab83",
   "metadata": {},
   "outputs": [],
   "source": [
    "# Run the model\n",
    "!python -m speciesnet.scripts.run_model --folders \"data\"   --predictions_json \"impala_malawi.json\"   --model \"/model\"\n"
   ]
  },
  {
   "cell_type": "code",
   "execution_count": null,
   "id": "de1b634a",
   "metadata": {},
   "outputs": [],
   "source": [
    "import json\n",
    "with open('impala_malawi.json') as f:\n",
    "  output_file = json.load(f)"
   ]
  },
  {
   "cell_type": "code",
   "execution_count": null,
   "id": "ef0b90a6",
   "metadata": {},
   "outputs": [],
   "source": [
    "import pandas as pd\n",
    "output_df = pd.json_normalize(output_file['predictions'])"
   ]
  },
  {
   "cell_type": "code",
   "execution_count": null,
   "id": "10dee275",
   "metadata": {},
   "outputs": [],
   "source": [
    "data = [output_df['prediction'].iloc[i].split(';')[1:] for i in range(len(output_df))]\n",
    "\n",
    "columns = ['Class', 'Order', 'Family', 'Genus', 'Species', 'Common Name']\n",
    "df = pd.DataFrame(data, columns=columns)\n",
    "\n",
    "# replace the '' with Unknown\n",
    "df = df.replace('', 'Unknown')\n",
    "\n",
    "df_counts = df.groupby(columns).size().reset_index(name='Count')\n",
    "df_counts.fillna('Unknown', inplace=True)"
   ]
  },
  {
   "cell_type": "code",
   "execution_count": null,
   "id": "7c637a6f",
   "metadata": {},
   "outputs": [],
   "source": [
    "import plotly.express as px\n",
    "\n",
    "fig = px.treemap(\n",
    "    df_counts,\n",
    "    path=columns,\n",
    "    values='Count',\n",
    "    title='Hierarchical Animal Classification Treemap'\n",
    ")\n",
    "fig.update_layout(margin=dict(t=50, l=25, r=25, b=25))\n",
    "fig.show()\n"
   ]
  }
 ],
 "metadata": {
  "language_info": {
   "name": "python"
  }
 },
 "nbformat": 4,
 "nbformat_minor": 5
}
